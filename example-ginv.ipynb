{
 "cells": [
  {
   "cell_type": "code",
   "execution_count": 1,
   "metadata": {},
   "outputs": [],
   "source": [
    "from IPython import display\n",
    "\n",
    "from pprint import pprint, pformat\n",
    "from functools import reduce, cmp_to_key\n",
    "\n",
    "from ginv import *"
   ]
  },
  {
   "cell_type": "markdown",
   "metadata": {},
   "source": [
    "## Задача № 2\n",
    "Найдите решение системы уравнений\n",
    "$$\n",
    "x^2+y^2+z=1, \\quad x^2-y^3+z^3=x, \\quad x^5=y+z\n",
    "$$"
   ]
  },
  {
   "cell_type": "markdown",
   "metadata": {},
   "source": [
    "Решение. Задаем неизвестные"
   ]
  },
  {
   "cell_type": "code",
   "execution_count": 2,
   "metadata": {},
   "outputs": [],
   "source": [
    "size = 3\n",
    "[x, y, z] = [poly_int.to_monom(\"TOP\", \"deglex\", monom.variable(i, size, -1)) for i in range(size)]"
   ]
  },
  {
   "cell_type": "markdown",
   "metadata": {},
   "source": [
    "Задаем систему"
   ]
  },
  {
   "cell_type": "code",
   "execution_count": 3,
   "metadata": {},
   "outputs": [],
   "source": [
    "eqs=[x**2+y**2+z-1, x**2-y**3+z**3-x, x**5-y-z]"
   ]
  },
  {
   "cell_type": "markdown",
   "metadata": {},
   "source": [
    "Ключем к решению является вычисление базиса Гребнера:"
   ]
  },
  {
   "cell_type": "code",
   "execution_count": 4,
   "metadata": {},
   "outputs": [
    {
     "name": "stdout",
     "output_type": "stream",
     "text": [
      "CPU times: user 2 µs, sys: 1e+03 ns, total: 3 µs\n",
      "Wall time: 5.01 µs\n",
      "len = 9\n",
      "maxPos = -1\n",
      "reduction = 56\n"
     ]
    }
   ],
   "source": [
    "%time\n",
    "bas = janet_poly_int()\n",
    "for eq in eqs:\n",
    "    bas.push(eq)\n",
    "bas.build()\n",
    "print(\"len =\", len(bas))\n",
    "print(\"maxPos =\", bas.maxPos())\n",
    "print(\"reduction =\", bas.reduction())"
   ]
  },
  {
   "cell_type": "markdown",
   "metadata": {},
   "source": [
    "Базис Гребнера в ginv нотации:"
   ]
  },
  {
   "cell_type": "code",
   "execution_count": 5,
   "metadata": {},
   "outputs": [
    {
     "data": {
      "text/plain": [
       "[[-1 2:2 0 0]*0x1 + ...,\n",
       " [-1 3:0 3 0]*-0x1 + ...,\n",
       " [-1 4:1 3 0]*-0x1 + ...,\n",
       " [-1 5:1 1 3]*-0x1 + ...,\n",
       " [-1 6:0 0 6]*-0x1 + ...,\n",
       " [-1 6:1 2 3]*-0x1 + ...,\n",
       " [-1 7:0 1 6]*0x1 + ...,\n",
       " [-1 7:1 0 6]*-0x1 + ...,\n",
       " [-1 8:0 2 6]*-0x1 + ...]"
      ]
     },
     "execution_count": 5,
     "metadata": {},
     "output_type": "execute_result"
    }
   ],
   "source": [
    "[p.poly() for p in bas]"
   ]
  },
  {
   "cell_type": "markdown",
   "metadata": {},
   "source": [
    "Базис Гребнера в sage нотации:"
   ]
  },
  {
   "cell_type": "code",
   "execution_count": 6,
   "metadata": {},
   "outputs": [
    {
     "name": "stdout",
     "output_type": "stream",
     "text": [
      "x^2*y^0*z^0*1 + x^0*y^2*z^0*1 + x^0*y^0*z^1*1 + x^0*y^0*z^0*-1,\n",
      "x^0*y^3*z^0*-1 + x^0*y^0*z^3*1 + x^0*y^2*z^0*-1 + x^1*y^0*z^0*-1 + x^0*y^0*z^1*-1 + x^0*y^0*z^0*1,\n",
      "x^1*y^3*z^0*-1 + x^1*y^0*z^3*1 + x^1*y^2*z^0*-1 + x^0*y^2*z^0*1 + x^1*y^0*z^1*-1 + x^1*y^0*z^0*1 + x^0*y^0*z^1*1 + x^0*y^0*z^0*-1,\n",
      "x^1*y^1*z^3*-1 + x^1*y^2*z^1*-2 + x^1*y^0*z^3*1 + x^1*y^2*z^0*1 + x^1*y^1*z^1*1 + x^1*y^0*z^2*-1 + x^0*y^0*z^3*-1 + x^1*y^1*z^0*-1 + x^0*y^2*z^0*2 + x^1*y^0*z^1*1 + x^0*y^1*z^1*-1 + x^1*y^0*z^0*1 + x^0*y^1*z^0*2 + x^0*y^0*z^1*3 + x^0*y^0*z^0*-2,\n",
      "x^0*y^0*z^6*-1 + x^0*y^2*z^3*2 + x^0*y^1*z^4*-3 + x^0*y^2*z^2*-3 + x^1*y^0*z^3*2 + x^0*y^1*z^3*2 + x^0*y^0*z^4*5 + x^1*y^2*z^0*-2 + x^1*y^1*z^1*3 + x^0*y^2*z^1*1 + x^0*y^1*z^2*3 + x^0*y^0*z^3*-5 + x^1*y^1*z^0*-3 + x^0*y^2*z^0*2 + x^1*y^0*z^1*-6 + x^0*y^1*z^1*-5 + x^0*y^0*z^2*-1 + x^1*y^0*z^0*4 + x^0*y^1*z^0*2 + x^0*y^0*z^1*5 + x^0*y^0*z^0*-3,\n",
      "x^1*y^2*z^3*-1 + x^1*y^0*z^4*-2 + x^1*y^2*z^1*1 + x^1*y^1*z^2*-1 + x^1*y^0*z^3*2 + x^0*y^1*z^3*-1 + x^1*y^2*z^0*-1 + x^1*y^1*z^1*2 + x^0*y^2*z^1*-3 + x^1*y^0*z^2*1 + x^0*y^0*z^3*1 + x^0*y^2*z^0*3 + x^1*y^0*z^1*-2 + x^0*y^1*z^1*2 + x^0*y^0*z^2*-2 + x^0*y^0*z^1*4 + x^0*y^0*z^0*-1,\n",
      "x^0*y^1*z^6*1 + x^0*y^2*z^4*3 + x^0*y^2*z^3*-4 + x^0*y^1*z^4*1 + x^0*y^0*z^5*3 + x^1*y^2*z^1*1 + x^1*y^0*z^3*-2 + x^0*y^1*z^3*1 + x^0*y^0*z^4*-9 + x^1*y^2*z^0*3 + x^1*y^1*z^1*-2 + x^0*y^2*z^1*4 + x^1*y^0*z^2*-1 + x^0*y^1*z^2*-5 + x^0*y^0*z^3*5 + x^1*y^1*z^0*4 + x^0*y^2*z^0*-6 + x^1*y^0*z^1*9 + x^0*y^1*z^1*7 + x^0*y^0*z^2*6 + x^1*y^0*z^0*-6 + x^0*y^1*z^0*-5 + x^0*y^0*z^1*-13 + x^0*y^0*z^0*6,\n",
      "x^1*y^0*z^6*-1 + x^1*y^2*z^2*3 + x^0*y^2*z^3*-2 + x^1*y^0*z^4*-2 + x^1*y^2*z^1*-4 + x^1*y^1*z^2*-2 + x^1*y^0*z^3*4 + x^0*y^0*z^4*-2 + x^1*y^2*z^0*2 + x^1*y^1*z^1*4 + x^0*y^2*z^1*-1 + x^1*y^0*z^2*-4 + x^0*y^0*z^3*3 + x^1*y^1*z^0*-2 + x^0*y^2*z^0*3 + x^1*y^0*z^1*3 + x^0*y^0*z^2*-4 + x^1*y^0*z^0*-2 + x^0*y^1*z^0*3 + x^0*y^0*z^1*6 + x^0*y^0*z^0*-1,\n",
      "x^0*y^2*z^6*-1 + x^0*y^2*z^4*-4 + x^0*y^1*z^5*6 + x^0*y^2*z^3*12 + x^1*y^0*z^4*-4 + x^0*y^1*z^4*-9 + x^0*y^0*z^5*-12 + x^1*y^2*z^1*5 + x^1*y^1*z^2*-8 + x^0*y^2*z^2*-10 + x^1*y^0*z^3*3 + x^0*y^1*z^3*-6 + x^0*y^0*z^4*24 + x^1*y^2*z^0*-7 + x^1*y^1*z^1*14 + x^0*y^2*z^1*-6 + x^1*y^0*z^2*17 + x^0*y^1*z^2*21 + x^0*y^0*z^3*-9 + x^1*y^1*z^0*-8 + x^0*y^2*z^0*8 + x^1*y^0*z^1*-28 + x^0*y^1*z^1*-15 + x^0*y^0*z^2*-16 + x^1*y^0*z^0*9 + x^0*y^1*z^0*6 + x^0*y^0*z^1*23 + x^0*y^0*z^0*-7,\n"
     ]
    }
   ],
   "source": [
    "for p in bas:\n",
    "    print(\" + \".join([\"%s*%s\" % ('x^'+str(m[0])+'*y^'+str(m[1])+'*z^'+str(m[2]), c) for m, c in p.poly()])+',')"
   ]
  },
  {
   "cell_type": "code",
   "execution_count": null,
   "metadata": {},
   "outputs": [],
   "source": []
  }
 ],
 "metadata": {
  "kernelspec": {
   "display_name": "Python 3",
   "language": "python",
   "name": "python3"
  },
  "language_info": {
   "codemirror_mode": {
    "name": "ipython",
    "version": 3
   },
   "file_extension": ".py",
   "mimetype": "text/x-python",
   "name": "python",
   "nbconvert_exporter": "python",
   "pygments_lexer": "ipython3",
   "version": "3.9.13"
  }
 },
 "nbformat": 4,
 "nbformat_minor": 2
}
